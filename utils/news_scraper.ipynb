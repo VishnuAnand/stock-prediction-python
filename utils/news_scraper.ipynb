{
 "cells": [
  {
   "cell_type": "code",
   "execution_count": 52,
   "id": "0c53eb87-7d70-4707-8a61-2ed2666ba271",
   "metadata": {
    "tags": []
   },
   "outputs": [
    {
     "name": "stdout",
     "output_type": "stream",
     "text": [
      "['https://economictimes.indiatimes.com/archive/year-2001/month-1.cms', 'https://economictimes.indiatimes.com/archive/year-2001/month-2.cms', 'https://economictimes.indiatimes.com/archive/year-2001/month-3.cms', 'https://economictimes.indiatimes.com/archive/year-2001/month-4.cms', 'https://economictimes.indiatimes.com/archive/year-2001/month-5.cms', 'https://economictimes.indiatimes.com/archive/year-2001/month-6.cms', 'https://economictimes.indiatimes.com/archive/year-2001/month-7.cms', 'https://economictimes.indiatimes.com/archive/year-2001/month-8.cms', 'https://economictimes.indiatimes.com/archive/year-2001/month-9.cms', 'https://economictimes.indiatimes.com/archive/year-2001/month-10.cms', 'https://economictimes.indiatimes.com/archive/year-2001/month-11.cms', 'https://economictimes.indiatimes.com/archive/year-2001/month-12.cms', 'https://economictimes.indiatimes.com/archive/year-2002/month-1.cms', 'https://economictimes.indiatimes.com/archive/year-2002/month-2.cms', 'https://economictimes.indiatimes.com/archive/year-2002/month-3.cms', 'https://economictimes.indiatimes.com/archive/year-2002/month-4.cms', 'https://economictimes.indiatimes.com/archive/year-2002/month-5.cms', 'https://economictimes.indiatimes.com/archive/year-2002/month-6.cms', 'https://economictimes.indiatimes.com/archive/year-2002/month-7.cms', 'https://economictimes.indiatimes.com/archive/year-2002/month-8.cms', 'https://economictimes.indiatimes.com/archive/year-2002/month-9.cms', 'https://economictimes.indiatimes.com/archive/year-2002/month-10.cms', 'https://economictimes.indiatimes.com/archive/year-2002/month-11.cms', 'https://economictimes.indiatimes.com/archive/year-2002/month-12.cms', 'https://economictimes.indiatimes.com/archive/year-2003/month-1.cms', 'https://economictimes.indiatimes.com/archive/year-2003/month-2.cms', 'https://economictimes.indiatimes.com/archive/year-2003/month-3.cms', 'https://economictimes.indiatimes.com/archive/year-2003/month-4.cms', 'https://economictimes.indiatimes.com/archive/year-2003/month-5.cms', 'https://economictimes.indiatimes.com/archive/year-2003/month-6.cms', 'https://economictimes.indiatimes.com/archive/year-2003/month-7.cms', 'https://economictimes.indiatimes.com/archive/year-2003/month-8.cms', 'https://economictimes.indiatimes.com/archive/year-2003/month-9.cms', 'https://economictimes.indiatimes.com/archive/year-2003/month-10.cms', 'https://economictimes.indiatimes.com/archive/year-2003/month-11.cms', 'https://economictimes.indiatimes.com/archive/year-2003/month-12.cms', 'https://economictimes.indiatimes.com/archive/year-2004/month-1.cms', 'https://economictimes.indiatimes.com/archive/year-2004/month-2.cms', 'https://economictimes.indiatimes.com/archive/year-2004/month-3.cms', 'https://economictimes.indiatimes.com/archive/year-2004/month-4.cms', 'https://economictimes.indiatimes.com/archive/year-2004/month-5.cms', 'https://economictimes.indiatimes.com/archive/year-2004/month-6.cms', 'https://economictimes.indiatimes.com/archive/year-2004/month-7.cms', 'https://economictimes.indiatimes.com/archive/year-2004/month-8.cms', 'https://economictimes.indiatimes.com/archive/year-2004/month-9.cms', 'https://economictimes.indiatimes.com/archive/year-2004/month-10.cms', 'https://economictimes.indiatimes.com/archive/year-2004/month-11.cms', 'https://economictimes.indiatimes.com/archive/year-2004/month-12.cms', 'https://economictimes.indiatimes.com/archive/year-2005/month-1.cms', 'https://economictimes.indiatimes.com/archive/year-2005/month-2.cms', 'https://economictimes.indiatimes.com/archive/year-2005/month-3.cms', 'https://economictimes.indiatimes.com/archive/year-2005/month-4.cms', 'https://economictimes.indiatimes.com/archive/year-2005/month-5.cms', 'https://economictimes.indiatimes.com/archive/year-2005/month-6.cms', 'https://economictimes.indiatimes.com/archive/year-2005/month-7.cms', 'https://economictimes.indiatimes.com/archive/year-2005/month-8.cms', 'https://economictimes.indiatimes.com/archive/year-2005/month-9.cms', 'https://economictimes.indiatimes.com/archive/year-2005/month-10.cms', 'https://economictimes.indiatimes.com/archive/year-2005/month-11.cms', 'https://economictimes.indiatimes.com/archive/year-2005/month-12.cms', 'https://economictimes.indiatimes.com/archive/year-2006/month-1.cms', 'https://economictimes.indiatimes.com/archive/year-2006/month-2.cms', 'https://economictimes.indiatimes.com/archive/year-2006/month-3.cms', 'https://economictimes.indiatimes.com/archive/year-2006/month-4.cms', 'https://economictimes.indiatimes.com/archive/year-2006/month-5.cms', 'https://economictimes.indiatimes.com/archive/year-2006/month-6.cms', 'https://economictimes.indiatimes.com/archive/year-2006/month-7.cms', 'https://economictimes.indiatimes.com/archive/year-2006/month-8.cms', 'https://economictimes.indiatimes.com/archive/year-2006/month-9.cms', 'https://economictimes.indiatimes.com/archive/year-2006/month-10.cms', 'https://economictimes.indiatimes.com/archive/year-2006/month-11.cms', 'https://economictimes.indiatimes.com/archive/year-2006/month-12.cms', 'https://economictimes.indiatimes.com/archive/year-2007/month-1.cms', 'https://economictimes.indiatimes.com/archive/year-2007/month-2.cms', 'https://economictimes.indiatimes.com/archive/year-2007/month-3.cms', 'https://economictimes.indiatimes.com/archive/year-2007/month-4.cms', 'https://economictimes.indiatimes.com/archive/year-2007/month-5.cms', 'https://economictimes.indiatimes.com/archive/year-2007/month-6.cms', 'https://economictimes.indiatimes.com/archive/year-2007/month-7.cms', 'https://economictimes.indiatimes.com/archive/year-2007/month-8.cms', 'https://economictimes.indiatimes.com/archive/year-2007/month-9.cms', 'https://economictimes.indiatimes.com/archive/year-2007/month-10.cms', 'https://economictimes.indiatimes.com/archive/year-2007/month-11.cms', 'https://economictimes.indiatimes.com/archive/year-2007/month-12.cms', 'https://economictimes.indiatimes.com/archive/year-2008/month-1.cms', 'https://economictimes.indiatimes.com/archive/year-2008/month-2.cms', 'https://economictimes.indiatimes.com/archive/year-2008/month-3.cms', 'https://economictimes.indiatimes.com/archive/year-2008/month-4.cms', 'https://economictimes.indiatimes.com/archive/year-2008/month-5.cms', 'https://economictimes.indiatimes.com/archive/year-2008/month-6.cms', 'https://economictimes.indiatimes.com/archive/year-2008/month-7.cms', 'https://economictimes.indiatimes.com/archive/year-2008/month-8.cms', 'https://economictimes.indiatimes.com/archive/year-2008/month-9.cms', 'https://economictimes.indiatimes.com/archive/year-2008/month-10.cms', 'https://economictimes.indiatimes.com/archive/year-2008/month-11.cms', 'https://economictimes.indiatimes.com/archive/year-2008/month-12.cms', 'https://economictimes.indiatimes.com/archive/year-2009/month-1.cms', 'https://economictimes.indiatimes.com/archive/year-2009/month-2.cms', 'https://economictimes.indiatimes.com/archive/year-2009/month-3.cms', 'https://economictimes.indiatimes.com/archive/year-2009/month-4.cms', 'https://economictimes.indiatimes.com/archive/year-2009/month-5.cms', 'https://economictimes.indiatimes.com/archive/year-2009/month-6.cms', 'https://economictimes.indiatimes.com/archive/year-2009/month-7.cms', 'https://economictimes.indiatimes.com/archive/year-2009/month-8.cms', 'https://economictimes.indiatimes.com/archive/year-2009/month-9.cms', 'https://economictimes.indiatimes.com/archive/year-2009/month-10.cms', 'https://economictimes.indiatimes.com/archive/year-2009/month-11.cms', 'https://economictimes.indiatimes.com/archive/year-2009/month-12.cms', 'https://economictimes.indiatimes.com/archive/year-2010/month-1.cms', 'https://economictimes.indiatimes.com/archive/year-2010/month-2.cms', 'https://economictimes.indiatimes.com/archive/year-2010/month-3.cms', 'https://economictimes.indiatimes.com/archive/year-2010/month-4.cms', 'https://economictimes.indiatimes.com/archive/year-2010/month-5.cms', 'https://economictimes.indiatimes.com/archive/year-2010/month-6.cms', 'https://economictimes.indiatimes.com/archive/year-2010/month-7.cms', 'https://economictimes.indiatimes.com/archive/year-2010/month-8.cms', 'https://economictimes.indiatimes.com/archive/year-2010/month-9.cms', 'https://economictimes.indiatimes.com/archive/year-2010/month-10.cms', 'https://economictimes.indiatimes.com/archive/year-2010/month-11.cms', 'https://economictimes.indiatimes.com/archive/year-2010/month-12.cms', 'https://economictimes.indiatimes.com/archive/year-2011/month-1.cms', 'https://economictimes.indiatimes.com/archive/year-2011/month-2.cms', 'https://economictimes.indiatimes.com/archive/year-2011/month-3.cms', 'https://economictimes.indiatimes.com/archive/year-2011/month-4.cms', 'https://economictimes.indiatimes.com/archive/year-2011/month-5.cms', 'https://economictimes.indiatimes.com/archive/year-2011/month-6.cms', 'https://economictimes.indiatimes.com/archive/year-2011/month-7.cms', 'https://economictimes.indiatimes.com/archive/year-2011/month-8.cms', 'https://economictimes.indiatimes.com/archive/year-2011/month-9.cms', 'https://economictimes.indiatimes.com/archive/year-2011/month-10.cms', 'https://economictimes.indiatimes.com/archive/year-2011/month-11.cms', 'https://economictimes.indiatimes.com/archive/year-2011/month-12.cms', 'https://economictimes.indiatimes.com/archive/year-2012/month-1.cms', 'https://economictimes.indiatimes.com/archive/year-2012/month-2.cms', 'https://economictimes.indiatimes.com/archive/year-2012/month-3.cms', 'https://economictimes.indiatimes.com/archive/year-2012/month-4.cms', 'https://economictimes.indiatimes.com/archive/year-2012/month-5.cms', 'https://economictimes.indiatimes.com/archive/year-2012/month-6.cms', 'https://economictimes.indiatimes.com/archive/year-2012/month-7.cms', 'https://economictimes.indiatimes.com/archive/year-2012/month-8.cms', 'https://economictimes.indiatimes.com/archive/year-2012/month-9.cms', 'https://economictimes.indiatimes.com/archive/year-2012/month-10.cms', 'https://economictimes.indiatimes.com/archive/year-2012/month-11.cms', 'https://economictimes.indiatimes.com/archive/year-2012/month-12.cms', 'https://economictimes.indiatimes.com/archive/year-2013/month-1.cms', 'https://economictimes.indiatimes.com/archive/year-2013/month-2.cms', 'https://economictimes.indiatimes.com/archive/year-2013/month-3.cms', 'https://economictimes.indiatimes.com/archive/year-2013/month-4.cms', 'https://economictimes.indiatimes.com/archive/year-2013/month-5.cms', 'https://economictimes.indiatimes.com/archive/year-2013/month-6.cms', 'https://economictimes.indiatimes.com/archive/year-2013/month-7.cms', 'https://economictimes.indiatimes.com/archive/year-2013/month-8.cms', 'https://economictimes.indiatimes.com/archive/year-2013/month-9.cms', 'https://economictimes.indiatimes.com/archive/year-2013/month-10.cms', 'https://economictimes.indiatimes.com/archive/year-2013/month-11.cms', 'https://economictimes.indiatimes.com/archive/year-2013/month-12.cms', 'https://economictimes.indiatimes.com/archive/year-2014/month-1.cms', 'https://economictimes.indiatimes.com/archive/year-2014/month-2.cms', 'https://economictimes.indiatimes.com/archive/year-2014/month-3.cms', 'https://economictimes.indiatimes.com/archive/year-2014/month-4.cms', 'https://economictimes.indiatimes.com/archive/year-2014/month-5.cms', 'https://economictimes.indiatimes.com/archive/year-2014/month-6.cms', 'https://economictimes.indiatimes.com/archive/year-2014/month-7.cms', 'https://economictimes.indiatimes.com/archive/year-2014/month-8.cms', 'https://economictimes.indiatimes.com/archive/year-2014/month-9.cms', 'https://economictimes.indiatimes.com/archive/year-2014/month-10.cms', 'https://economictimes.indiatimes.com/archive/year-2014/month-11.cms', 'https://economictimes.indiatimes.com/archive/year-2014/month-12.cms', 'https://economictimes.indiatimes.com/archive/year-2015/month-1.cms', 'https://economictimes.indiatimes.com/archive/year-2015/month-2.cms', 'https://economictimes.indiatimes.com/archive/year-2015/month-3.cms', 'https://economictimes.indiatimes.com/archive/year-2015/month-4.cms', 'https://economictimes.indiatimes.com/archive/year-2015/month-5.cms', 'https://economictimes.indiatimes.com/archive/year-2015/month-6.cms', 'https://economictimes.indiatimes.com/archive/year-2015/month-7.cms', 'https://economictimes.indiatimes.com/archive/year-2015/month-8.cms', 'https://economictimes.indiatimes.com/archive/year-2015/month-9.cms', 'https://economictimes.indiatimes.com/archive/year-2015/month-10.cms', 'https://economictimes.indiatimes.com/archive/year-2015/month-11.cms', 'https://economictimes.indiatimes.com/archive/year-2015/month-12.cms', 'https://economictimes.indiatimes.com/archive/year-2016/month-1.cms', 'https://economictimes.indiatimes.com/archive/year-2016/month-2.cms', 'https://economictimes.indiatimes.com/archive/year-2016/month-3.cms', 'https://economictimes.indiatimes.com/archive/year-2016/month-4.cms', 'https://economictimes.indiatimes.com/archive/year-2016/month-5.cms', 'https://economictimes.indiatimes.com/archive/year-2016/month-6.cms', 'https://economictimes.indiatimes.com/archive/year-2016/month-7.cms', 'https://economictimes.indiatimes.com/archive/year-2016/month-8.cms', 'https://economictimes.indiatimes.com/archive/year-2016/month-9.cms', 'https://economictimes.indiatimes.com/archive/year-2016/month-10.cms', 'https://economictimes.indiatimes.com/archive/year-2016/month-11.cms', 'https://economictimes.indiatimes.com/archive/year-2016/month-12.cms', 'https://economictimes.indiatimes.com/archive/year-2017/month-1.cms', 'https://economictimes.indiatimes.com/archive/year-2017/month-2.cms', 'https://economictimes.indiatimes.com/archive/year-2017/month-3.cms', 'https://economictimes.indiatimes.com/archive/year-2017/month-4.cms', 'https://economictimes.indiatimes.com/archive/year-2017/month-5.cms', 'https://economictimes.indiatimes.com/archive/year-2017/month-6.cms', 'https://economictimes.indiatimes.com/archive/year-2017/month-7.cms', 'https://economictimes.indiatimes.com/archive/year-2017/month-8.cms', 'https://economictimes.indiatimes.com/archive/year-2017/month-9.cms', 'https://economictimes.indiatimes.com/archive/year-2017/month-10.cms', 'https://economictimes.indiatimes.com/archive/year-2017/month-11.cms', 'https://economictimes.indiatimes.com/archive/year-2017/month-12.cms', 'https://economictimes.indiatimes.com/archive/year-2018/month-1.cms', 'https://economictimes.indiatimes.com/archive/year-2018/month-2.cms', 'https://economictimes.indiatimes.com/archive/year-2018/month-3.cms', 'https://economictimes.indiatimes.com/archive/year-2018/month-4.cms', 'https://economictimes.indiatimes.com/archive/year-2018/month-5.cms', 'https://economictimes.indiatimes.com/archive/year-2018/month-6.cms', 'https://economictimes.indiatimes.com/archive/year-2018/month-7.cms', 'https://economictimes.indiatimes.com/archive/year-2018/month-8.cms', 'https://economictimes.indiatimes.com/archive/year-2018/month-9.cms', 'https://economictimes.indiatimes.com/archive/year-2018/month-10.cms', 'https://economictimes.indiatimes.com/archive/year-2018/month-11.cms', 'https://economictimes.indiatimes.com/archive/year-2018/month-12.cms', 'https://economictimes.indiatimes.com/archive/year-2019/month-1.cms', 'https://economictimes.indiatimes.com/archive/year-2019/month-2.cms', 'https://economictimes.indiatimes.com/archive/year-2019/month-3.cms', 'https://economictimes.indiatimes.com/archive/year-2019/month-4.cms', 'https://economictimes.indiatimes.com/archive/year-2019/month-5.cms', 'https://economictimes.indiatimes.com/archive/year-2019/month-6.cms', 'https://economictimes.indiatimes.com/archive/year-2019/month-7.cms', 'https://economictimes.indiatimes.com/archive/year-2019/month-8.cms', 'https://economictimes.indiatimes.com/archive/year-2019/month-9.cms', 'https://economictimes.indiatimes.com/archive/year-2019/month-10.cms', 'https://economictimes.indiatimes.com/archive/year-2019/month-11.cms', 'https://economictimes.indiatimes.com/archive/year-2019/month-12.cms', 'https://economictimes.indiatimes.com/archive/year-2020/month-1.cms', 'https://economictimes.indiatimes.com/archive/year-2020/month-2.cms', 'https://economictimes.indiatimes.com/archive/year-2020/month-3.cms', 'https://economictimes.indiatimes.com/archive/year-2020/month-4.cms', 'https://economictimes.indiatimes.com/archive/year-2020/month-5.cms', 'https://economictimes.indiatimes.com/archive/year-2020/month-6.cms', 'https://economictimes.indiatimes.com/archive/year-2020/month-7.cms', 'https://economictimes.indiatimes.com/archive/year-2020/month-8.cms', 'https://economictimes.indiatimes.com/archive/year-2020/month-9.cms', 'https://economictimes.indiatimes.com/archive/year-2020/month-10.cms', 'https://economictimes.indiatimes.com/archive/year-2020/month-11.cms', 'https://economictimes.indiatimes.com/archive/year-2020/month-12.cms', 'https://economictimes.indiatimes.com/archive/year-2021/month-1.cms', 'https://economictimes.indiatimes.com/archive/year-2021/month-2.cms', 'https://economictimes.indiatimes.com/archive/year-2021/month-3.cms', 'https://economictimes.indiatimes.com/archive/year-2021/month-4.cms', 'https://economictimes.indiatimes.com/archive/year-2021/month-5.cms', 'https://economictimes.indiatimes.com/archive/year-2021/month-6.cms', 'https://economictimes.indiatimes.com/archive/year-2021/month-7.cms', 'https://economictimes.indiatimes.com/archive/year-2021/month-8.cms', 'https://economictimes.indiatimes.com/archive/year-2021/month-9.cms', 'https://economictimes.indiatimes.com/archive/year-2021/month-10.cms', 'https://economictimes.indiatimes.com/archive/year-2021/month-11.cms', 'https://economictimes.indiatimes.com/archive/year-2021/month-12.cms', 'https://economictimes.indiatimes.com/archive/year-2022/month-1.cms', 'https://economictimes.indiatimes.com/archive/year-2022/month-2.cms', 'https://economictimes.indiatimes.com/archive/year-2022/month-3.cms', 'https://economictimes.indiatimes.com/archive/year-2022/month-4.cms', 'https://economictimes.indiatimes.com/archive/year-2022/month-5.cms', 'https://economictimes.indiatimes.com/archive/year-2022/month-6.cms', 'https://economictimes.indiatimes.com/archive/year-2022/month-7.cms', 'https://economictimes.indiatimes.com/archive/year-2022/month-8.cms', 'https://economictimes.indiatimes.com/archive/year-2022/month-9.cms', 'https://economictimes.indiatimes.com/archive/year-2022/month-10.cms', 'https://economictimes.indiatimes.com/archive/year-2022/month-11.cms', 'https://economictimes.indiatimes.com/archive/year-2022/month-12.cms', 'https://economictimes.indiatimes.com/archive/year-2023/month-1.cms', 'https://economictimes.indiatimes.com/archive/year-2023/month-2.cms', 'https://economictimes.indiatimes.com/archive/year-2023/month-3.cms', 'https://economictimes.indiatimes.com/archive/year-2023/month-4.cms', 'https://economictimes.indiatimes.com/archive/year-2023/month-5.cms']\n"
     ]
    }
   ],
   "source": [
    "# Import required libraries\n",
    "import datetime\n",
    "\n",
    "# Set the base URL\n",
    "base_url = 'https://economictimes.indiatimes.com/archive/year-{}/month-{}.cms'\n",
    "\n",
    "# Get the current year and month\n",
    "current_year = datetime.date.today().year\n",
    "current_month = datetime.date.today().month\n",
    "\n",
    "# Create a list of year and month\n",
    "year_month_list = []\n",
    "for year in range(2001, current_year+1):\n",
    "    for month in range(1, 13):\n",
    "        if year == current_year and month > current_month:\n",
    "            break\n",
    "        year_month_list.append(base_url.format(year, month))\n",
    "\n",
    "# Print the list of year and month\n",
    "print(year_month_list)"
   ]
  },
  {
   "cell_type": "code",
   "execution_count": 133,
   "id": "bb14dda4-26e1-4cb6-a454-df56e4be355a",
   "metadata": {
    "tags": []
   },
   "outputs": [
    {
     "name": "stdout",
     "output_type": "stream",
     "text": [
      "[]\n",
      "<section id=\"pageContent\"><h1 class=\"h1\"></h1><div style=\"padding-top:5px;padding-bottom:5px;font-size:17;color: #000000;\"><a class=\"nav_tpl\" href=\"/archive.cms\">Archives</a> &gt; <a class=\"nav_tpl\" href=\"/archive/year-2023.cms\">2023</a> &gt; <span class=\"nav_tpl\">January</span></div><div><table border=\"0\" cellpadding=\"0\" cellspacing=\"0\" width=\"100%\"><tr><td width=\"100%\"><span class=\"normtxt\"><br/><div id=\"calenderdiv\" style=\"font-size: 16px; line-height: 40px;\"></div><script>function OldArchiveCal(_cd){\t\n",
      "\t\t\t\t\t\t\t\t\t\t\t\t\tthis._cd = _cd;\n",
      "\t\t\t\t\t\t\t\t\t\t\t\t\tthis.ccd= _cd;\n",
      "\t\t\t\t\t\t\t\t\t\t\t\t\tthis.days = [\"S\",\"M\",\"T\",\"W\",\"T\",\"F\",\"S\"];\n",
      "\t\t\t\t\t\t\t\t\t\t\t\t\tthis.week=1;\t\n",
      "\t\t\t\t\t\t\t\t\t\t\t\t\tthis.getDaysInMonth=function(){\n",
      "\t\t\t\t\t\t\t\t\t\t\t\t\t\tvar m = this._cd.getMonth();\t\t\n",
      "\t\t\t\t\t\t\t\t\t\t\t\t\t\tvar y = this._cd.getFullYear();\n",
      "\t\t\t\t\t\t\t\t\t\t\t\t\t\tm=m+1;\n",
      "\t\t\t\t\t\t\t\t\t\t\t\t\t\tif(m==01||m==03||m==05||m==07||m==08||m==10||m==12){var dmax = 31;return dmax;}\n",
      "\t\t\t\t\t\t\t\t\t\t\t\t\t\telse if (m==04||m==06||m==09||m==11){var dmax = 30;return dmax;\t\t  \n",
      "\t\t\t\t\t\t\t\t\t\t\t\t\t\t}else{\n",
      "\t\t\t\t\t\t\t\t\t\t\t\t\t\t\tif((y%4==0) && (y%400==0 || y%100!=0)){dmax = 29;\treturn dmax;}\n",
      "\t\t\t\t\t\t\t\t\t\t\t\t\t\t\telse{dmax = 28;}\n",
      "\t\t\t\t\t\t\t\t\t\t\t\t\t\t\treturn dmax;\n",
      "\t\t\t\t\t\t\t\t\t\t\t\t\t\t}\n",
      "\t\t\t\t\t\t\t\t\t\t\t\t\t};\n",
      "\t\t\t\t\t\t\t\t\t\t\t\t\tthis.getStartTime=function(){\n",
      "\t\t\t\t\t\t\t\t\t\t\t\t\t\tvar d = new Date(\"30 Dec 1899,00:00\");\t\t\n",
      "\t\t\t\t\t\t\t\t\t\t\t\t\t\treturn Math.floor(((this._cd.getTime()-d.getTime())/86400000));\n",
      "\t\t\t\t\t\t\t\t\t\t\t\t\t};\n",
      "\t\t\t\t\t\t\t\t\t\t\t\t\tthis.printCal=function(){\t\t\n",
      "\t\t\t\t\t\t\t\t\t\t\t\t\t\tvar totalDays = this.getDaysInMonth();\t\t\n",
      "\t\t\t\t\t\t\t\t\t\t\t\t\t\tvar crDate= this._cd.getDate();\n",
      "\t\t\t\t\t\t\t\t\t\t\t\t\t\tthis._cd.setDate(01);\n",
      "\t\t\t\t\t\t\t\t\t\t\t\t\t\tvar stDay = this._cd.getDay();\t\t\n",
      "\t\t\t\t\t\t\t\t\t\t\t\t\t\tthis._cd.setDate(crDate);\t\t\n",
      "\t\t\t\t\t\t\t\t\t\t\t\t\t\tvar strDay = \"<table id='calender' align='center' bgcolor='#ABABAB' width='90%' cellspacing='1' cellpadding='0' border='0'><tr height='25' bgcolor='#DDDDDD' style='font-weight:bold; color: #006699'>\";\n",
      "\t\t\t\t\t\t\t\t\t\t\t\t\t\tvar j=0;\n",
      "\t\t\t\t\t\t\t\t\t\t\t\t\t\tvar k=1;\n",
      "\t\t\t\t\t\t\t\t\t\t\t\t\t\tvar w=1;\n",
      "\t\t\t\t\t\t\t\t\t\t\t\t\t\tfor(i=0;i<7;i++){\n",
      "\t\t\t\t\t\t\t\t\t\t\t\t\t\t\tstrDay = strDay + \"<td align='center' width='14%'>\"+this.days[j++]+\"</td>\";\n",
      "\t\t\t\t\t\t\t\t\t\t\t\t\t\t}\n",
      "\t\t\t\t\t\t\t\t\t\t\t\t\t\tj=0;\n",
      "\t\t\t\t\t\t\t\t\t\t\t\t\t\tstrDay = strDay + \"</tr><tr height='25' bgcolor='#FFFFFF' style='color: #006699'>\";\n",
      "\t\t\t\t\t\t\t\t\t\t\t\t\t\tfor(i=0;i<42;i++){\n",
      "\t\t\t\t\t\t\t\t\t\t\t\t\t\t\tthis._cd.setDate(k);\n",
      "\t\t\t\t\t\t\t\t\t\t\t\t\t\t\tif(j>6){j=0;if(k<=crDate){this.week++;}strDay = strDay + \"</tr><tr height='25' bgcolor='#FFFFFF' style='color: #006699'>\";}\n",
      "\t\t\t\t\t\t\t\t\t\t\t\t\t\t\tif(j==0){\n",
      "\t\t\t\t\t\t\t\t\t\t\t\t\t\t\t\tstrDay = strDay + \"<td bgcolor='#EFEFEF' align='center'><a href='/archivelist/year-\"+this._cd.getFullYear()+\",month-\"+(this._cd.getMonth()+1)+\",starttime-\"+this.getStartTime()+\".cms'>\";\n",
      "\t\t\t\t\t\t\t\t\t\t\t\t\t\t\t}else{\n",
      "\t\t\t\t\t\t\t\t\t\t\t\t\t\t\t\tstrDay = strDay + \"<td align='center'><a href='/archivelist/year-\"+this._cd.getFullYear()+\",month-\"+(this._cd.getMonth()+1)+\",starttime-\"+this.getStartTime()+\".cms'>\";\n",
      "\t\t\t\t\t\t\t\t\t\t\t\t\t\t\t}\t\t\t\n",
      "\t\t\t\t\t\t\t\t\t\t\t\t\t\t\tif(i>=stDay && (this._cd.getTime()+86400000)<cd.getTime()){\n",
      "\t\t\t\t\t\t\t\t\t\t\t\t\t\t\t\tif(k==crDate){\n",
      "\t\t\t\t\t\t\t\t\t\t\t\t\t\t\t\t\tstrDay = strDay + (k++) + \"</a></td>\";\n",
      "\t\t\t\t\t\t\t\t\t\t\t\t\t\t\t\t\tw=i;\n",
      "\t\t\t\t\t\t\t\t\t\t\t\t\t\t\t\t}else{\n",
      "\t\t\t\t\t\t\t\t\t\t\t\t\t\t\t\t\tstrDay = strDay + (k++) + \"</a></td>\";\n",
      "\t\t\t\t\t\t\t\t\t\t\t\t\t\t\t\t}\n",
      "\t\t\t\t\t\t\t\t\t\t\t\t\t\t\t}else{\n",
      "\t\t\t\t\t\t\t\t\t\t\t\t\t\t\t\tstrDay = strDay + \"</a>&nbsp; </td>\";\n",
      "\t\t\t\t\t\t\t\t\t\t\t\t\t\t\t}\n",
      "\t\t\t\t\t\t\t\t\t\t\t\t\t\t\tj++;\n",
      "\t\t\t\t\t\t\t\t\t\t\t\t\t\t\tif(k>totalDays)break;\n",
      "\t\t\t\t\t\t\t\t\t\t\t\t\t\t}\n",
      "\t\t\t\t\t\t\t\t\t\t\t\t\t\tfor(m=j;m<=6;m++){\t\t\n",
      "\t\t\t\t\t\t\t\t\t\t\t\t\t\t\tstrDay = strDay + \"<td>&nbsp; </td>\";\n",
      "\t\t\t\t\t\t\t\t\t\t\t\t\t\t}\n",
      "\t\t\t\t\t\t\t\t\t\t\t\t\t\tw=w+1;\n",
      "\t\t\t\t\t\t\t\t\t\t\t\t\t\tif(w>=7){w=Math.ceil(w/7);}else{w=1;}\t\t\t\t\n",
      "\t\t\t\t\t\t\t\t\t\t\t\t\t\tdocument.getElementById(\"calenderdiv\").innerHTML=strDay;\t\t\n",
      "\t\t\t\t\t\t\t\t\t\t\t\t\t};\t\n",
      "\t\t\t\t\t\t\t\t\t\t\t\t}\t\n",
      "\t\t\t\t\t\t\t\t\t\t\t\tvar _mnth = [\"Jan\",\"Feb\",\"Mar\",\"Apr\",\"May\",\"Jun\",\"Jul\",\"Aug\",\"Sep\",\"Oct\",\"Nov\",\"Dec\"]\n",
      "\t\t\t\t\t\t\t\t\t\t\t\tvar _datestr = \"01 \"+_mnth[1-1] + \" 2023, 11:00\";\n",
      "\t\t\t\t\t\t\t\t\t\t\t\tvar oldcd = new OldArchiveCal(new Date(_datestr));\n",
      "\t\t\t\t\t\t\t\t\t\t\t\toldcd.printCal();</script><br/></span></td></tr><tr><td height=\"20px\"></td></tr></table></div></section>\n"
     ]
    }
   ],
   "source": [
    "import requests\n",
    "from bs4 import BeautifulSoup\n",
    "import csv\n",
    "\n",
    "# Scrape news articles from a website\n",
    "def scrape_news(url):\n",
    "    response = requests.get(url)\n",
    "    soup = BeautifulSoup(response.content, 'html.parser')\n",
    "    news_articles = []\n",
    "    dat = soup.css.select(\".main_container\")\n",
    "    print(dat)\n",
    "    print(soup.find(id=\"pageContent\"))\n",
    "    # for link in dat.find_all('a')['href']:\n",
    "    #     print(link)\n",
    "    # return news_articles\n",
    "\n",
    "scrape_news('https://economictimes.indiatimes.com/archive/year-2023,month-1.cms')\n",
    "\n",
    "#CREATE A JS FUNCTION TO SCRAPE THE URLs\n"
   ]
  },
  {
   "cell_type": "code",
   "execution_count": null,
   "id": "024ac6de-79d4-4c2a-8694-82518d956b3c",
   "metadata": {},
   "outputs": [],
   "source": []
  }
 ],
 "metadata": {
  "kernelspec": {
   "display_name": "Python 3 (ipykernel)",
   "language": "python",
   "name": "python3"
  },
  "language_info": {
   "codemirror_mode": {
    "name": "ipython",
    "version": 3
   },
   "file_extension": ".py",
   "mimetype": "text/x-python",
   "name": "python",
   "nbconvert_exporter": "python",
   "pygments_lexer": "ipython3",
   "version": "3.10.4"
  }
 },
 "nbformat": 4,
 "nbformat_minor": 5
}
